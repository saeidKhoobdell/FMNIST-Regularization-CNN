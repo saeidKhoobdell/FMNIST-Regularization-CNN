{
 "cells": [
  {
   "cell_type": "code",
   "execution_count": 32,
   "metadata": {},
   "outputs": [],
   "source": [
    "import torch\n",
    "import PIL\n",
    "import numpy as np\n",
    "\n",
    "import torchvision\n",
    "import torchvision.transforms as transforms\n",
    "\n",
    "import torch.optim as optim\n",
    "import torch.nn as nn\n",
    "\n",
    "import torch.nn.functional as F\n",
    "\n",
    "device = 'cuda' if torch.cuda.is_available() else 'cpu'"
   ]
  },
  {
   "cell_type": "markdown",
   "metadata": {},
   "source": [
    "#### **Understanding What Our Transforms Do**\n",
    "\n",
    "1. Our Transforms are applied to an image or batch of images everytime it's loaded.\n",
    "2. These new images aren't saved, they're generated or 'altered' everytime a batch is loaded\n",
    "\n",
    "#### **NOTE** \n",
    "\n",
    "We don't apply the same augmentations to our Test or Validation Datasets. Therefore, we keep separate transformation functions (see below) for our Train and Validation/Test data."
   ]
  },
  {
   "cell_type": "code",
   "execution_count": 33,
   "metadata": {},
   "outputs": [
    {
     "name": "stderr",
     "output_type": "stream",
     "text": [
      "c:\\Users\\saeid\\anaconda3\\envs\\pytorch\\lib\\site-packages\\torchvision\\transforms\\transforms.py:1303: UserWarning: Argument 'interpolation' of type int is deprecated since 0.13 and will be removed in 0.15. Please use InterpolationMode enum.\n",
      "  warnings.warn(\n"
     ]
    }
   ],
   "source": [
    "data_transforms = {\n",
    "    'train': transforms.Compose([\n",
    "        transforms.RandomAffine(degrees = 10, translate = (0.05,0.05), shear = 5), \n",
    "        transforms.ColorJitter(hue = .05, saturation = .05),\n",
    "        transforms.RandomHorizontalFlip(),\n",
    "        transforms.RandomRotation(15, interpolation = PIL.Image.BILINEAR),\n",
    "        transforms.Grayscale(num_output_channels = 1),\n",
    "        transforms.ToTensor(),\n",
    "        transforms.Normalize((0.5, ), (0.5, )),\n",
    "    ]),\n",
    "    'val':transforms.Compose([\n",
    "        transforms.ToTensor(),\n",
    "        transforms.Normalize((0.5, ), (0.5, ))\n",
    "    ])\n",
    "\n",
    "}"
   ]
  },
  {
   "cell_type": "code",
   "execution_count": 34,
   "metadata": {},
   "outputs": [],
   "source": [
    "trainset = torchvision.datasets.FashionMNIST(root='./data', train=True,\n",
    "                                        download=True, transform=data_transforms['train'])\n",
    "testset = torchvision.datasets.FashionMNIST(root='./data', train=False,\n",
    "                                       download=True, transform=data_transforms['val'])"
   ]
  },
  {
   "cell_type": "code",
   "execution_count": 35,
   "metadata": {},
   "outputs": [],
   "source": [
    "trainLoader = torch.utils.data.DataLoader(trainset, batch_size=32,\n",
    "                                          shuffle=True, num_workers=2)\n",
    "\n",
    "testLoader = torch.utils.data.DataLoader(testset, batch_size=32,\n",
    "                                         shuffle=False, num_workers=2)"
   ]
  },
  {
   "cell_type": "markdown",
   "metadata": {},
   "source": [
    "### **Adding Dropout**\n",
    "\n",
    "In Convolutional Neural Networks Dropout is commonly added after CONV-RELU Layers.\n",
    "\n",
    "E.g. CONV->RELU->**DROPOUT**\n",
    "\n",
    "#### **Dropout Recommendations** \n",
    "\n",
    "In CNN's values of 0.1 to 0.3 have been found to work well.\n",
    "\n",
    "### **Adding BatchNorm**\n",
    "\n",
    "In CNNs **BatchNorm** is best used between the Conv Layer and the activation function layer (ReLU)\n",
    "When used with Dropout, the recommended order is: \n",
    "\n",
    "CONV_1 -> **BatchNorm** -> ReLU -> Dropout - CONV_2\n",
    "\n",
    "**NOTE** BatchNorm's input arguement is the **output** size of the previous layer."
   ]
  },
  {
   "cell_type": "code",
   "execution_count": 46,
   "metadata": {},
   "outputs": [
    {
     "data": {
      "text/plain": [
       "FMnistClassifier(\n",
       "  (conv1): Conv2d(1, 32, kernel_size=(3, 3), stride=(1, 1))\n",
       "  (conv1_bn): BatchNorm2d(32, eps=1e-05, momentum=0.1, affine=True, track_running_stats=True)\n",
       "  (conv2): Conv2d(32, 64, kernel_size=(3, 3), stride=(1, 1))\n",
       "  (conv2_bn): BatchNorm2d(64, eps=1e-05, momentum=0.1, affine=True, track_running_stats=True)\n",
       "  (maxpool): MaxPool2d(kernel_size=2, stride=2, padding=0, dilation=1, ceil_mode=False)\n",
       "  (fc1): Linear(in_features=9216, out_features=128, bias=True)\n",
       "  (fc2): Linear(in_features=128, out_features=10, bias=True)\n",
       "  (dropOut): Dropout(p=0.2, inplace=False)\n",
       ")"
      ]
     },
     "execution_count": 46,
     "metadata": {},
     "output_type": "execute_result"
    }
   ],
   "source": [
    "class FMnistClassifier(nn.Module):\n",
    "    def __init__(self):\n",
    "        super(FMnistClassifier, self).__init__()\n",
    "        self.conv1 = nn.Conv2d(1, 32, 3)\n",
    "        self.conv1_bn = nn.BatchNorm2d(32) \n",
    "        self.conv2 = nn.Conv2d(32, 64, 3)\n",
    "        self.conv2_bn = nn.BatchNorm2d(64) \n",
    "        self.maxpool = nn.MaxPool2d(2,2)\n",
    "        self.fc1 = nn.Linear(64 * 12 * 12 , 128)       # input image is 28 x 28\n",
    "        self.fc2 = nn.Linear(128, 10)\n",
    "        self.dropOut = nn.Dropout(0.2)           # We can apply this after any layer, but it's best suited after ReLU\n",
    "    \n",
    "    \n",
    "    def forward(self, x):\n",
    "        x = F.relu(self.conv1_bn(self.conv1(x)))      # CONV_1 -> BatchNorm -> ReLU -> Dropout - CONV_2\n",
    "        x = self.dropOut(x)\n",
    "        x = self.dropOut(F.relu(self.conv2_bn(self.conv2(x))))\n",
    "\n",
    "        x = self.maxpool(x)\n",
    "        x = x.view(-1, 64 * 12 * 12)   # we use -1 bcz we want our code to be flexible enough to handle batches of different sizes\n",
    "        x = F.relu(self.fc1(x))\n",
    "        x = self.fc2(x)\n",
    "        return x\n",
    "\n",
    "\n",
    "net = FMnistClassifier()\n",
    "net.to(device)"
   ]
  },
  {
   "cell_type": "markdown",
   "metadata": {},
   "source": [
    "### **Adding L2 Regularisation**\n",
    "\n",
    "\n",
    "L2 regularisation on the parameters/weights of the model is directly included in most optimizers, including optim.SGD.\n",
    "\n",
    "It can be controlled with the **weight_decay** parameter as can be seen in the [SGD documentation](http://pytorch.org/docs/optim.html#torch.optim.SGD).\n",
    "\n",
    "```weight_decay``` (**float**, optional) – weight decay *(L2 penalty) (default: 0)*\n",
    "\n",
    "**Good L2 Values range from 0.1 to 0.0001**\n",
    "\n",
    "**NOTE:**\n",
    "\n",
    " L1 regularization is not included by default in the optimizers, but could be added by including an extra loss nn.L1Loss in the weights of the model.\n",
    "\n"
   ]
  },
  {
   "cell_type": "code",
   "execution_count": 47,
   "metadata": {},
   "outputs": [],
   "source": [
    "criterion = nn.CrossEntropyLoss()\n",
    "optimizer = optim.SGD(net.parameters(), lr=0.001, momentum=0.9, weight_decay = 0.001)"
   ]
  },
  {
   "cell_type": "code",
   "execution_count": 48,
   "metadata": {},
   "outputs": [
    {
     "name": "stdout",
     "output_type": "stream",
     "text": [
      "starting epoch : 1...\n",
      "Epoch: 1, Mini-Batches Completed: 100, Loss: 1.216, Test Accuracy = 70.860%\n"
     ]
    }
   ],
   "source": [
    "epochs = 15\n",
    "\n",
    "epoch_log = []\n",
    "accuracy_log = []\n",
    "loss_log = []\n",
    "\n",
    "for epoch in range(epochs):\n",
    "    print(f'starting epoch : {epoch +1}...')\n",
    "\n",
    "    running_loss = 0.0\n",
    "\n",
    "    for i , data in enumerate(trainLoader, 0):\n",
    "\n",
    "        inputs, labels = data\n",
    "\n",
    "        inputs = inputs.to(device)\n",
    "        labels = labels.to(device)\n",
    "\n",
    "\n",
    "        optimizer.zero_grad()\n",
    "\n",
    "        output = net(inputs)\n",
    "\n",
    "        loss = criterion(output, labels)\n",
    "        loss.backward()\n",
    "\n",
    "        optimizer.step()\n",
    "        running_loss += loss.item()\n",
    "\n",
    "        if i % 100 == 99:\n",
    "\n",
    "            correct = 0\n",
    "            total = 0\n",
    "            \n",
    "            with torch.no_grad():\n",
    "\n",
    "                for data in testLoader:\n",
    "\n",
    "                    images , labels = data\n",
    "\n",
    "                    images = images.to(device)\n",
    "                    labels = labels.to(device)\n",
    "\n",
    "                    output = net(images)\n",
    "\n",
    "                    _, predict = torch.max(output.data, 1)\n",
    "\n",
    "                    correct += (predict == labels).sum().item()\n",
    "                    total += labels.size(0)\n",
    "\n",
    "                accuracy = (correct/total) * 100\n",
    "                epoch_num = epoch + 1\n",
    "                actual_loss = running_loss / 100 # represents the average loss over 100 mini-batches\n",
    "                print(f'Epoch: {epoch_num}, Mini-Batches Completed: {(i+1)}, Loss: {actual_loss:.3f}, Test Accuracy = {accuracy:.3f}%')\n",
    "                running_loss = 0.0\n",
    "\n",
    "\n",
    "\n",
    "    epoch_log.append(epoch)\n",
    "    loss_log.append(actual_loss)\n",
    "    accuracy_log.append(accuracy)\n",
    "\n",
    "print('Finished Training')        \n"
   ]
  },
  {
   "cell_type": "code",
   "execution_count": 27,
   "metadata": {},
   "outputs": [
    {
     "name": "stdout",
     "output_type": "stream",
     "text": [
      "Accuracy of the network on the 10000 test images: 90.69%\n"
     ]
    }
   ],
   "source": [
    "correct = 0 \n",
    "total = 0\n",
    "\n",
    "with torch.no_grad():\n",
    "    for data in testLoader:\n",
    "        images, labels = data\n",
    "        images = images.to(device)\n",
    "        labels = labels.to(device)\n",
    "        outputs = net(images)\n",
    "        _, predicted = torch.max(outputs.data, 1)\n",
    "        total += labels.size(0)\n",
    "        correct += (predicted == labels).sum().item()\n",
    "\n",
    "accuracy = 100 * correct / total\n",
    "print(f'Accuracy of the network on the 10000 test images: {accuracy:.4}%')"
   ]
  },
  {
   "cell_type": "code",
   "execution_count": 28,
   "metadata": {},
   "outputs": [
    {
     "data": {
      "image/png": "[encoded data removed]",
      "text/plain": [
       "<Figure size 432x288 with 2 Axes>"
      ]
     },
     "metadata": {
      "needs_background": "light"
     },
     "output_type": "display_data"
    }
   ],
   "source": [
    "import matplotlib.pyplot as plt\n",
    "\n",
    "fig, ax1 = plt.subplots()\n",
    "\n",
    "plt.title(\"Accuracy & Loss vs Epoch Mini-Batches\")\n",
    "plt.xticks(rotation=45)\n",
    "\n",
    "ax2 = ax1.twinx()\n",
    "\n",
    "ax1.plot(epoch_log, loss_log, 'g-')\n",
    "ax2.plot(epoch_log, accuracy_log, 'b-')\n",
    "\n",
    "ax1.set_xlabel('Epochs')\n",
    "ax1.set_ylabel('Loss', color='g')\n",
    "ax2.set_ylabel('Test Accuracy', color='b')\n",
    "\n",
    "plt.show()"
   ]
  },
  {
   "cell_type": "markdown",
   "metadata": {},
   "source": [
    "#### **Early Stopping in PyTorch**\n",
    "\n",
    "https://github.com/Bjarten/early-stopping-pytorch"
   ]
  }
 ],
 "metadata": {
  "kernelspec": {
   "display_name": "pytorch",
   "language": "python",
   "name": "python3"
  },
  "language_info": {
   "codemirror_mode": {
    "name": "ipython",
    "version": 3
   },
   "file_extension": ".py",
   "mimetype": "text/x-python",
   "name": "python",
   "nbconvert_exporter": "python",
   "pygments_lexer": "ipython3",
   "version": "3.10.4"
  }
 },
 "nbformat": 4,
 "nbformat_minor": 2
}
