{
 "cells": [
  {
   "cell_type": "markdown",
   "metadata": {},
   "source": [
    "### **We are going to firstly demonstrate how Data Augmentation Affects Our Images**"
   ]
  },
  {
   "cell_type": "code",
   "execution_count": 14,
   "metadata": {},
   "outputs": [
    {
     "name": "stdout",
     "output_type": "stream",
     "text": [
      "GPU available : True\n"
     ]
    }
   ],
   "source": [
    "import torch\n",
    "import numpy as np\n",
    "\n",
    "import PIL\n",
    "import torchvision\n",
    "import torchvision.transforms as transforms\n",
    "\n",
    "import torch.optim as optim\n",
    "import torch.nn as nn\n",
    "import torch.nn.functional as F\n",
    "\n",
    "print('GPU available : {}'.format(torch.cuda.is_available()))\n",
    "device = 'cuda' if torch.cuda.is_available() else 'cpu'"
   ]
  },
  {
   "cell_type": "code",
   "execution_count": 2,
   "metadata": {},
   "outputs": [],
   "source": [
    "transform= transforms.Compose([\n",
    "    transforms.ToTensor(),\n",
    "    transforms.Normalize((0.5, ), (0.5, ))]) \n",
    "\n",
    "# - (0.5,) means subtract the mean value 0.5 from each channel (in this case, there's only one channel since it's grayscale).\n",
    "# - (0.5,) means divide each channel by the standard deviation of 0.5.  \"\"\"\n"
   ]
  },
  {
   "cell_type": "code",
   "execution_count": 3,
   "metadata": {},
   "outputs": [],
   "source": [
    "trainset = torchvision.datasets.FashionMNIST(root = './data', \n",
    "                                             train=True,\n",
    "                                             download=True,\n",
    "                                             transform = transform)\n",
    "testset = torchvision.datasets.FashionMNIST(root = './data', \n",
    "                                             train= False,\n",
    "                                             download=True,\n",
    "                                             transform = transform)"
   ]
  },
  {
   "cell_type": "code",
   "execution_count": 9,
   "metadata": {},
   "outputs": [],
   "source": [
    "data_aug_transform = transforms.Compose([\n",
    "    transforms.RandomAffine(degrees= 10, translate=(0.05, 0.05 ), shear=5),\n",
    "    transforms.ColorJitter(hue = .05, saturation = .05),\n",
    "    transforms.RandomHorizontalFlip(),\n",
    "    transforms.RandomRotation(15, interpolation = PIL.Image.BILINEAR),\n",
    "    transforms.Grayscale(num_output_channels = 1)\n",
    "\n",
    "])"
   ]
  },
  {
   "cell_type": "code",
   "execution_count": 20,
   "metadata": {},
   "outputs": [],
   "source": [
    "from matplotlib.pyplot import figure, imshow, axis\n",
    "from matplotlib.image import imread\n",
    "\n",
    "def showAugmentations(img, augmentations):\n",
    "    fig = figure()\n",
    "    for i in range(augmentations):\n",
    "        img = data_aug_transform(img)\n",
    "        fig.add_subplot(1, augmentations, i+1)\n",
    "        imshow(img, cmap='Greys_r')\n",
    "        axis('off')"
   ]
  },
  {
   "cell_type": "code",
   "execution_count": 25,
   "metadata": {},
   "outputs": [
    {
     "data": {
      "image/png": "[encoded data removed]",
      "text/plain": [
       "<Figure size 432x288 with 10 Axes>"
      ]
     },
     "metadata": {
      "needs_background": "light"
     },
     "output_type": "display_data"
    }
   ],
   "source": [
    "image = trainset.data[1].numpy() # Load the first Image from our training data as a numpy array\n",
    "\n",
    "img_pil = PIL.Image.fromarray(image) # Convert it to PIL image's format\n",
    "\n",
    "showAugmentations(img_pil, 10)"
   ]
  },
  {
   "cell_type": "code",
   "execution_count": null,
   "metadata": {},
   "outputs": [],
   "source": []
  }
 ],
 "metadata": {
  "kernelspec": {
   "display_name": "pytorch",
   "language": "python",
   "name": "python3"
  },
  "language_info": {
   "codemirror_mode": {
    "name": "ipython",
    "version": 3
   },
   "file_extension": ".py",
   "mimetype": "text/x-python",
   "name": "python",
   "nbconvert_exporter": "python",
   "pygments_lexer": "ipython3",
   "version": "3.10.4"
  }
 },
 "nbformat": 4,
 "nbformat_minor": 2
}
